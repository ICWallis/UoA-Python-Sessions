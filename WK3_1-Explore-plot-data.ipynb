{
 "cells": [
  {
   "cell_type": "markdown",
   "metadata": {},
   "source": [
    "# Geothermal Development in the US Basin and Range\n",
    "\n",
    "Data for this project was compiled during October 2020 from open sources. \n",
    "\n",
    "Data compilation and analysis below is work in progress by Irene Wallis.\n",
    "\n",
    "Send any corrections for plant or reservoir MWe, in particular publicly available MWe generation numbers, to irene@cubicearth.nz"
   ]
  },
  {
   "cell_type": "code",
   "execution_count": null,
   "metadata": {},
   "outputs": [],
   "source": [
    "import pandas as pd\n",
    "from matplotlib import pyplot as plt\n",
    "import seaborn as sns"
   ]
  },
  {
   "cell_type": "markdown",
   "metadata": {},
   "source": [
    "## Installed MWe for each reservoir\n",
    "\n",
    "Reporting of installed capacity in the public space is somewhat varied, likely because of project variation through time and different conventions for these numbers (almost always without any statement about the convention used). Where the installed capacity of a reservoir as reported on a company website or presentation does not match the sum of the plant capacities complied from other open data sources, the company data are used. \n",
    "\n",
    "'development-byreservoir.csv' is all reservoirs that could be included inside the wider Basin and Range province (including the Walker Lane)\n",
    "\n",
    "'development-byreservoir-trimmed.csv' removes those reservoirs that are clearly associated with shallow crustal magma (eg Mammoth Mountain is associated with an active volcano) and the Walker Lane systems Cove Fort and Roosevelt may have shallow crustal magmatic sources (Faulds and Hinz, 2015), but have not yet been excluded from the trimmed list. Further refinement is likely required and suggestions are welcome. "
   ]
  },
  {
   "cell_type": "code",
   "execution_count": null,
   "metadata": {},
   "outputs": [],
   "source": [
    "all_reservoirs = pd.read_csv(r'Data/WK3-development-byreservoir.csv')\n",
    "print(all_reservoirs.Installed_MWe.sum())\n",
    "all_reservoirs"
   ]
  },
  {
   "cell_type": "code",
   "execution_count": null,
   "metadata": {},
   "outputs": [],
   "source": [
    "#reservoirs = pd.read_csv(r'Data/WK3-development-byreservoir.csv')\n",
    "reservoirs = pd.read_csv(r'Data/WK3-development-byreservoir-trimmed.csv')\n",
    "print(reservoirs.Installed_MWe.sum())\n",
    "reservoirs"
   ]
  },
  {
   "cell_type": "code",
   "execution_count": null,
   "metadata": {},
   "outputs": [],
   "source": [
    "reservoirs['Installed_MWe'].describe()"
   ]
  },
  {
   "cell_type": "code",
   "execution_count": null,
   "metadata": {},
   "outputs": [],
   "source": [
    "plt.figure(\n",
    "    figsize=(12,5),\n",
    "    constrained_layout=True,\n",
    ")\n",
    "\n",
    "sortedbymw = reservoirs.sort_values(\n",
    "    by = 'Installed_MWe',\n",
    "    ascending=False\n",
    ")\n",
    "\n",
    "sns.barplot(\n",
    "    x = 'Reservior',     \n",
    "    y = 'Installed_MWe', \n",
    "    data = sortedbymw,\n",
    "    color = '#cccccc'\n",
    ") \n",
    "\n",
    "plt.title('Installed capacity (MWe) for reservoirs in the US Basin and Range province, excluding the Walker Lane and Mammoth Mountain')\n",
    "\n",
    "plt.xticks(rotation=90)\n",
    "plt.xlabel('')\n",
    "plt.ylabel('Installed MWe')\n",
    "\n",
    "plt.savefig('MWe-Per-Reservoir.png',dpi=400,bbox_inches='tight')\n",
    "plt.show()"
   ]
  },
  {
   "cell_type": "code",
   "execution_count": null,
   "metadata": {},
   "outputs": [],
   "source": [
    "plt.figure(\n",
    "    figsize=(12,4),\n",
    "    constrained_layout=True,\n",
    ")\n",
    "\n",
    "sns.distplot(\n",
    "    reservoirs.Installed_MWe,\n",
    "    bins = 80, # change this value to view the underlying distribution in different ways\n",
    "    color = '#7a7a7a',\n",
    ") \n",
    "\n",
    "plt.vlines(3.5,0,0.08,linestyle='-.',alpha=0.3,label='25% 3.5 MWe')\n",
    "plt.vlines(22.5,0,0.08,linestyle='--',alpha=0.3,label='median 50% 22 MWe')\n",
    "plt.vlines(30,0,0.08,linestyle='-.',alpha=0.3,label='75% 30 MWe')\n",
    "\n",
    "plt.vlines(27,0,0.08,linestyle=':',alpha=0.6,label='mean 28 MWe')\n",
    "\n",
    "plt.title('Histogram with probability density function (kernel density estimation method) of installed capacity (MWe)')\n",
    "\n",
    "plt.xlabel('Installed capacity [MWe] -- reservoirs in the Basin and Range, excluding the Walker Lane and Mammoth Mountain')\n",
    "\n",
    "plt.ylim(0,0.08)\n",
    "\n",
    "plt.legend()\n",
    "\n",
    "plt.savefig('MWe-Per-Reservoir-PDF.png',dpi=400,bbox_inches='tight')\n",
    "plt.show()"
   ]
  },
  {
   "cell_type": "markdown",
   "metadata": {},
   "source": [
    "The data presented here is installed (nameplate) capacity. Many of the reservoirs have not sustained generation at that level (refer to Ayling, 2020 for generation with time in Nevada) or may be capable of supporting more generation. \n",
    "\n",
    "In some projects, the economic power plant size drives a minimum installed MWe rather than the results from subsurface resource definition. In other projects, reservoirs have evolved in unforeseen ways (eg greater pressure decline or cooling than forecasted). \n",
    "\n",
    "We normally expect natural phenomena to have a lognormal distribution. If Basin and Range reservoir capacity adheres to this axiom, then numerous resources between 3.5 and 22 MWe would be present. \n",
    "\n",
    "Given the results of recent exploration and development in the Basin and Range (eg McGinness Hills), a number of hidden (blind) systems above the median may also remain as-yet undiscovered. However, this is speculation beyond the capacity data plotted here. "
   ]
  },
  {
   "cell_type": "markdown",
   "metadata": {},
   "source": [
    "## Power plant MWe \n",
    "\n",
    "The geothermal power plant list below includes all reservoirs in the wider province, including the Walker Lane and magmatic systems. "
   ]
  },
  {
   "cell_type": "code",
   "execution_count": null,
   "metadata": {},
   "outputs": [],
   "source": [
    "plants = pd.read_csv(r'Data/WK3-development-byplant.csv')\n",
    "plants"
   ]
  },
  {
   "cell_type": "code",
   "execution_count": null,
   "metadata": {},
   "outputs": [],
   "source": [
    "plants['Capacity_Mwe'].describe()"
   ]
  },
  {
   "cell_type": "code",
   "execution_count": null,
   "metadata": {},
   "outputs": [],
   "source": [
    "plt.figure(\n",
    "    figsize=(14,8),\n",
    "    constrained_layout=True,\n",
    ")\n",
    "\n",
    "sortedbymw = plants.sort_values(\n",
    "    by = 'Capacity_Mwe',\n",
    "    ascending=False\n",
    ")\n",
    "\n",
    "sns.barplot(\n",
    "    x = 'Name',     \n",
    "    y = 'Capacity_Mwe', \n",
    "    data = sortedbymw,\n",
    "    color = '#cccccc'\n",
    ") \n",
    "\n",
    "plt.title('Power plant capacity (MWe) in the US Basin and Range province')\n",
    "\n",
    "plt.xticks(rotation=90)\n",
    "plt.xlabel('')\n",
    "plt.ylabel('Installed MWe')\n",
    "\n",
    "plt.show()"
   ]
  },
  {
   "cell_type": "code",
   "execution_count": null,
   "metadata": {},
   "outputs": [],
   "source": [
    "sortedbymw = plants.sort_values(\n",
    "    by = 'Capacity_Mwe',\n",
    "    ascending=False\n",
    ")\n",
    "\n",
    "x = sortedbymw.Name\n",
    "y = sortedbymw.Capacity_Mwe\n",
    "\n",
    "planttype = sortedbymw.Type\n",
    "col = []\n",
    "for val in planttype:\n",
    "    if val == 'binary':\n",
    "        col.append('#cccccc')\n",
    "    elif val == 'flash':\n",
    "        col.append('#7a7a7a')\n",
    "    else:\n",
    "        col.append('#7a7a7a')\n",
    "\n",
    "plt.figure(\n",
    "    figsize=(14,7),\n",
    "    constrained_layout=True,\n",
    ")\n",
    "\n",
    "plt.bar(x,y, color = col)\n",
    "\n",
    "plt.title('Power plant capacity (MWe) in the US Basin and Range province (flash = dark grey, binary = light grey)')\n",
    "\n",
    "plt.xticks(rotation=90)\n",
    "plt.xlabel('')\n",
    "plt.ylabel('Installed MWe')\n",
    "\n",
    "plt.show()"
   ]
  },
  {
   "cell_type": "code",
   "execution_count": null,
   "metadata": {},
   "outputs": [],
   "source": [
    "plt.figure(\n",
    "    figsize=(14,4),\n",
    "    constrained_layout=True,\n",
    ")\n",
    "\n",
    "sns.distplot(\n",
    "    plants.Capacity_Mwe,\n",
    "    bins = 80,\n",
    "    color = '#7a7a7a',\n",
    ") \n",
    "\n",
    "plt.title('Histogram with probability density function (kernel density estimation method) of individual plant capacity (MWe)')\n",
    "\n",
    "plt.xlabel('Plant capacity [MWe]')\n",
    "\n",
    "plt.show()"
   ]
  },
  {
   "cell_type": "markdown",
   "metadata": {},
   "source": [
    "## Data Sources\n",
    "\n",
    "The major collated sources of plant data:\n",
    "\n",
    "- https://openei.org/wiki/Main_Page\n",
    "\n",
    "- https://www.thinkgeoenergy.com/map/\n",
    "\n",
    "\n",
    "Company web pages were also used:\n",
    "\n",
    "- https://www.ormat.com/en/projects/all/main/\n",
    "\n",
    "- https://cosoenergy.com/\n",
    "\n",
    "\n",
    "Data was cross-checked from other sources like blogs and wikipedia pages, such as those linked below:\n",
    "\n",
    "- https://en.wikipedia.org/wiki/List_of_geothermal_power_stations_in_the_United_States\n",
    "\n",
    "- https://urbanecologycmu.wordpress.com/2016/11/01/geothermal-energy-oregon-institute-of-technology/\n",
    "\n",
    "- https://en.wikipedia.org/wiki/Mammoth_Geothermal_Complex\n",
    "\n",
    "- https://www.ouranosdatum.com/raftrivergeothermalresource-7-11-2019-edited\n",
    "\n",
    "Paper on geothermal generation in Nevada:\n",
    "\n",
    "- Ayling, B. F., 2020, 35 years of geothermal power generation in Nevada, USA: A review of field development, generation, and production histories Proceedings, 45th Workshop on Geothermal Reservoir Engineering: Stanford, CA. https://www.geothermal-energy.org/explore/our-databases/conference-paper-database/"
   ]
  },
  {
   "cell_type": "code",
   "execution_count": null,
   "metadata": {},
   "outputs": [],
   "source": []
  }
 ],
 "metadata": {
  "kernelspec": {
   "display_name": "sandpit",
   "language": "python",
   "name": "python3"
  },
  "language_info": {
   "codemirror_mode": {
    "name": "ipython",
    "version": 3
   },
   "file_extension": ".py",
   "mimetype": "text/x-python",
   "name": "python",
   "nbconvert_exporter": "python",
   "pygments_lexer": "ipython3",
   "version": "3.9.13"
  }
 },
 "nbformat": 4,
 "nbformat_minor": 4
}
